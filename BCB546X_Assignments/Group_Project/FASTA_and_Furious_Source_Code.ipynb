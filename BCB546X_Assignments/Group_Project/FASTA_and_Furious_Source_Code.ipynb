{
 "cells": [
  {
   "cell_type": "markdown",
   "metadata": {},
   "source": [
    "This jupyter notebook contains the source code for reproduction of the results detailed in the 2013 paper titled *Staphylococcus aureus* innate immume evasion is lineage-specific: A bioinfomatics study, authored by Alex J. McCarthy and Jodi A. Lindsay in Infection, Genetics and Evolution (https://doi.org/10.1016/j.meegid.2013.06.012)"
   ]
  },
  {
   "cell_type": "code",
   "execution_count": null,
   "metadata": {},
   "outputs": [],
   "source": []
  }
 ],
 "metadata": {
  "kernelspec": {
   "display_name": "Python 3",
   "language": "python",
   "name": "python3"
  },
  "language_info": {
   "codemirror_mode": {
    "name": "ipython",
    "version": 3
   },
   "file_extension": ".py",
   "mimetype": "text/x-python",
   "name": "python",
   "nbconvert_exporter": "python",
   "pygments_lexer": "ipython3",
   "version": "3.7.5"
  }
 },
 "nbformat": 4,
 "nbformat_minor": 2
}
