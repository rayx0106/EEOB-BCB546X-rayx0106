{
 "cells": [
  {
   "cell_type": "markdown",
   "metadata": {},
   "source": [
    "This jupyter notebook contains the source code for reproduction of the results detailed in the 2013 paper titled *Staphylococcus aureus* innate immume evasion is lineage-specific: A bioinfomatics study, authored by Alex J. McCarthy and Jodi A. Lindsay in Infection, Genetics and Evolution (https://doi.org/10.1016/j.meegid.2013.06.012)"
   ]
  },
  {
   "cell_type": "markdown",
   "metadata": {},
   "source": [
    "### Download of *S. aureus*  genome isolates for analysis\n",
    "\n",
    "88 isolates to be downloaded fron NCBI GeneBank Database"
   ]
  },
  {
   "cell_type": "code",
   "execution_count": 1,
   "metadata": {
    "scrolled": true
   },
   "outputs": [
    {
     "name": "stdout",
     "output_type": "stream",
     "text": [
      "Requirement already satisfied: biopython in /opt/anaconda3/lib/python3.7/site-packages (1.74)\n",
      "Requirement already satisfied: numpy in /opt/anaconda3/lib/python3.7/site-packages (from biopython) (1.17.2)\n",
      "Note: you may need to restart the kernel to use updated packages.\n"
     ]
    }
   ],
   "source": [
    "pip install biopython"
   ]
  },
  {
   "cell_type": "code",
   "execution_count": 11,
   "metadata": {},
   "outputs": [],
   "source": [
    "from Bio.Seq import Seq\n",
    "from Bio.Alphabet import IUPAC\n",
    "from Bio import SeqIO\n"
   ]
  },
  {
   "cell_type": "code",
   "execution_count": 12,
   "metadata": {},
   "outputs": [],
   "source": [
    "from Bio import Entrez\n",
    "Entrez.email = \"dray@iastate.edu\""
   ]
  },
  {
   "cell_type": "code",
   "execution_count": 16,
   "metadata": {},
   "outputs": [
    {
     "name": "stdout",
     "output_type": "stream",
     "text": [
      "ID: NZ_ADVP00000000.1\n",
      "Name: NZ_ADVP01000000\n",
      "Description: Staphylococcus aureus subsp. aureus ATCC 51811, whole genome shotgun sequencing project\n",
      "Database cross-references: BioProject:PRJNA224116, BioSample:SAMN00139434, Assembly:GCF_000164715.1\n",
      "Number of features: 1\n",
      "/molecule_type=DNA\n",
      "/topology=linear\n",
      "/data_file_division=BCT\n",
      "/date=18-SEP-2019\n",
      "/accessions=['NZ_ADVP00000000']\n",
      "/sequence_version=1\n",
      "/keywords=['WGS', 'HIGH_QUALITY_DRAFT', 'RefSeq']\n",
      "/source=Staphylococcus aureus subsp. aureus ATCC 51811\n",
      "/organism=Staphylococcus aureus subsp. aureus ATCC 51811\n",
      "/taxonomy=['Bacteria', 'Firmicutes', 'Bacilli', 'Bacillales', 'Staphylococcaceae', 'Staphylococcus']\n",
      "/references=[Reference(title='Direct Submission', ...)]\n",
      "/comment=REFSEQ INFORMATION: The reference sequence was derived from\n",
      "ADVP00000000.\n",
      "The Staphylococcus aureus subsp. aureus ATCC 51811 whole genome\n",
      "shotgun (WGS) project has the project accession NZ_ADVP00000000.\n",
      "This version of the project (01) has the accession number\n",
      "NZ_ADVP01000000, and consists of sequences\n",
      "ADVP01000001-ADVP01000047.\n",
      "Staphylococcus aureus subsp. aureus ATCC 51811\n",
      " Strain source, body site: airways, nasal\n",
      " Inquiries should be directed to microbe@hgsc.bcm.tmc.edu\n",
      " This is a reference genome for the Human Microbiome Project. This\n",
      "project is co-owned with the Human Microbiome Project DACC.\n",
      " This sequence is generated as a part of the Human Microbiome\n",
      "Project (HMP), funded by the National Institutes of Health (NIH),\n",
      "National Human Genome Research Institute (NHGRI) Large-Scale\n",
      "Sequencing Research Network and the National Institute of Allergy\n",
      "and Infectious Diseases (NIAID) Microbial Genome Sequencing Centers\n",
      "Program.  The mission of the HMP is to generate resources to enable\n",
      "the characterization of the human microbiota, the microbial\n",
      "communities living within human bodies, and analyze the role of\n",
      "these organisms in human health and disease.  See\n",
      "http://www.hmpdacc.org/ for more information.\n",
      " The sequenced strain was obtained from University of Arizona\n",
      "(Department of Veterinary Science and Microbiology, 1117 E. Lowell\n",
      "Street, Bldg 90 Room 218, Tucson, AZ, 85721).  The genomic DNA was\n",
      "prepared from a single bacterial isolate.  The sequence generated\n",
      "included at least 10 fold coverage of Roche/454 Lifesciences FLX\n",
      "fragment data and at least 8 fold clone coverage of Roche/454\n",
      "Lifesciences paired-end data. The Roche/454 Lifesciences sequence\n",
      "was assembled using the Roche/454 Lifesciences Newbler assembler.\n",
      "The contigs from the Newbler assembly were aligned with mapping\n",
      "tools such as Mosaic and Crossmatch and these data were used for\n",
      "error correction for this version of the draft assembly. This draft\n",
      "assembly meets the HMP draft quality standards (more than 90% of\n",
      "the genome is included in contigs, more than 90% of a core set of\n",
      "bacterial genes are found with > 30% identity and > 30% length;\n",
      "more than 90% of the bases in the assembly have more than 5 fold\n",
      "sequence coverage, the contig N50 length is greater than 5kb, the\n",
      "scaffold N50 length is greater than 20kb, and there is less than 1\n",
      "gap per 5kb).\n",
      "Product names were updated in June 2013.\n",
      "                                     Annotation Pipeline (PGAP)\n",
      "                                     set; GeneMarkS-2+\n",
      "                                     repeat_region\n",
      "/structured_comment=OrderedDict([('Genome-Assembly-Data', OrderedDict([('Finishing Goal', 'High-Quality Draft'), ('Current Finishing Status', 'High-Quality Draft'), ('Assembly Method', 'Newbler Assembler v. 2.0-01162009'), ('Genome Coverage', '26x'), ('Sequencing Technology', '454')])), ('Genome-Annotation-Data', OrderedDict([('Annotation Provider', 'NCBI RefSeq'), ('Annotation Date', '09/18/2019 01:25:05'), ('Annotation Pipeline', 'NCBI Prokaryotic Genome'), ('Annotation Method', 'Best-placed reference protein'), ('Annotation Software revision', '4.9'), ('Features Annotated', 'Gene; CDS; rRNA; tRNA; ncRNA;'), ('Genes (total)', '2,825'), ('CDSs (total)', '2,760'), ('Genes (coding)', '2,665'), ('CDSs (with protein)', '2,665'), ('Genes (RNA)', '65'), ('rRNAs', '2, 2, 1 (5S, 16S, 23S)'), ('complete rRNAs', '2, 1 (5S, 23S)'), ('partial rRNAs', '2 (16S)'), ('tRNAs', '56'), ('ncRNAs', '4'), ('Pseudo Genes (total)', '95'), ('CDSs (without protein)', '95'), ('Pseudo Genes (ambiguous residues)', '1 of 95'), ('Pseudo Genes (frameshifted)', '62 of 95'), ('Pseudo Genes (incomplete)', '31 of 95'), ('Pseudo Genes (internal stop)', '16 of 95'), ('Pseudo Genes (multiple problems)', '15 of 95')]))])\n",
      "/wgs=['ADVP01000001', 'ADVP01000047']\n",
      "/wgs_scafld=[['NZ_GG774480', 'NZ_GG774506']]\n",
      "UnknownSeq(2765363, alphabet=IUPACAmbiguousDNA(), character='N')\n"
     ]
    }
   ],
   "source": [
    "handle = Entrez.efetch(db=\"nucleotide\", id=\"297250928\", rettype=\"gb\", retmode=\"text\")\n",
    "record = SeqIO.read(handle, \"genbank\")\n",
    "print(record)"
   ]
  },
  {
   "cell_type": "code",
   "execution_count": null,
   "metadata": {},
   "outputs": [],
   "source": []
  },
  {
   "cell_type": "code",
   "execution_count": null,
   "metadata": {},
   "outputs": [],
   "source": []
  }
 ],
 "metadata": {
  "kernelspec": {
   "display_name": "Python 3",
   "language": "python",
   "name": "python3"
  },
  "language_info": {
   "codemirror_mode": {
    "name": "ipython",
    "version": 3
   },
   "file_extension": ".py",
   "mimetype": "text/x-python",
   "name": "python",
   "nbconvert_exporter": "python",
   "pygments_lexer": "ipython3",
   "version": "3.7.5"
  }
 },
 "nbformat": 4,
 "nbformat_minor": 2
}
